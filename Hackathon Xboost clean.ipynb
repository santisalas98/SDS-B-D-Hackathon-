{
 "cells": [
  {
   "cell_type": "markdown",
   "id": "dfd9dbc2-6bfa-4389-bd39-5a819d795f0d",
   "metadata": {},
   "source": [
    "# Stroke prediction competition: SDS - Business&Decision Hackathon (2023)"
   ]
  },
  {
   "cell_type": "markdown",
   "id": "d7fce003-6cdd-45af-8d3f-91b9609378e4",
   "metadata": {},
   "source": [
    "This script shows the work done for the SDS - Business & Decision Hackathon (2023). The obejective of the hackathon was to develop a model to predict whether or not a patient is likely to have a stroke or not. For this purpose, we ended up using the XGBoost library, with cross validation and fine-tuning. A special focus was given to the fact that the the dataset is quite imbalanced, with many more instances of 'no stroke'. To deals with this, we used the 'scale_pos_weight' parameter of XGBoost. \n",
    "\n",
    "The chosen model was used to buiild an app that gives you the porbability of having an stroke according to your ersonal data. In certain forms of stroke it is vitally important to be very quick to react to it, so we consider that raising awareness and helping people understand the likelihood of having a stroke can save lifes.\n",
    "\n",
    "The model was develop over a time spam of 24 hours, and it could be further refined, but it is a good first step to understand the classification of unbalanced data and the trade-off between accuracy and recall. The result generalized well, and the model ended up second in the competition. Some minor changes have been done in this script since the date of the competition to make it more clear."
   ]
  },
  {
   "cell_type": "markdown",
   "id": "1dddf101-ca5a-40b8-865e-0cdf8043cae0",
   "metadata": {},
   "source": [
    "## Intro"
   ]
  },
  {
   "cell_type": "markdown",
   "id": "bd8c712b-99b0-4db5-94ca-8d98e6178f5b",
   "metadata": {},
   "source": [
    "First we import the relevant packages and charge the data. We also do a simple exploration to check that the data was charge properly, and wheter we have missing values or not. \n",
    "\n",
    "The competition included two datasets: traning and testing. The testing dataset didn't include the variable 'Stroke', and it had to be used to generate the predictions for the submission. Therefore, here we focus on the first dataset."
   ]
  },
  {
   "cell_type": "code",
   "execution_count": 1,
   "id": "a7b79b55-2057-4d48-a7a2-178d5ab1e447",
   "metadata": {},
   "outputs": [],
   "source": [
    "import numpy as np\n",
    "\n",
    "import seaborn as sns\n",
    "\n",
    "from sklearn.compose import ColumnTransformer\n",
    "\n",
    "from sklearn.svm import SVC\n",
    "from sklearn.metrics import RocCurveDisplay\n",
    "\n",
    "import pandas as pd\n",
    "import numpy\n",
    "from sklearn.model_selection import train_test_split\n",
    "from sklearn.preprocessing import OneHotEncoder\n",
    "\n",
    "import matplotlib.pyplot as plt\n",
    "import seaborn as sns\n",
    "\n",
    "from sklearn.ensemble import RandomForestClassifier\n",
    "from sklearn.metrics import accuracy_score, confusion_matrix, precision_score, recall_score, ConfusionMatrixDisplay\n",
    "from sklearn.metrics import roc_curve, auc, roc_auc_score,confusion_matrix,precision_score, recall_score,accuracy_score \n",
    "from sklearn.model_selection import RepeatedStratifiedKFold \n",
    "from xgboost import XGBClassifier\n",
    "\n",
    "from sklearn.model_selection import cross_val_score \n",
    "from sklearn.model_selection import RepeatedStratifiedKFold\n",
    "from sklearn.model_selection import GridSearchCV\n",
    "\n",
    "from sklearn.linear_model import LinearRegression\n",
    "from sklearn.pipeline import Pipeline\n",
    "from sklearn.impute import SimpleImputer\n",
    "\n",
    "from sklearn.model_selection import RandomizedSearchCV"
   ]
  },
  {
   "cell_type": "code",
   "execution_count": 2,
   "id": "1ba33690-0b7f-4951-834e-2e477b4a5479",
   "metadata": {},
   "outputs": [],
   "source": [
    "df_training = pd.read_csv('C:/Users/santi/OneDrive/Escritorio/SD Hackathon/training-stroke.csv')"
   ]
  },
  {
   "cell_type": "code",
   "execution_count": 3,
   "id": "451fcfde-66e8-4331-a2e6-2cbe14193e4a",
   "metadata": {},
   "outputs": [
    {
     "data": {
      "text/plain": [
       "Index(['id', 'Age', 'Gender', 'Married', 'Employment_Type', 'Urban_Rural',\n",
       "       'Smoker', 'BodyMassIndex', 'Hypertension', 'Had_Heart_Disease',\n",
       "       'Mean_Glucose_Level', 'Stroke'],\n",
       "      dtype='object')"
      ]
     },
     "execution_count": 3,
     "metadata": {},
     "output_type": "execute_result"
    }
   ],
   "source": [
    "df_training.columns"
   ]
  },
  {
   "cell_type": "code",
   "execution_count": 4,
   "id": "ef15de05-6510-4061-b902-051cb0694b58",
   "metadata": {},
   "outputs": [
    {
     "data": {
      "text/html": [
       "<div>\n",
       "<style scoped>\n",
       "    .dataframe tbody tr th:only-of-type {\n",
       "        vertical-align: middle;\n",
       "    }\n",
       "\n",
       "    .dataframe tbody tr th {\n",
       "        vertical-align: top;\n",
       "    }\n",
       "\n",
       "    .dataframe thead th {\n",
       "        text-align: right;\n",
       "    }\n",
       "</style>\n",
       "<table border=\"1\" class=\"dataframe\">\n",
       "  <thead>\n",
       "    <tr style=\"text-align: right;\">\n",
       "      <th></th>\n",
       "      <th>id</th>\n",
       "      <th>Age</th>\n",
       "      <th>Gender</th>\n",
       "      <th>Married</th>\n",
       "      <th>Employment_Type</th>\n",
       "      <th>Urban_Rural</th>\n",
       "      <th>Smoker</th>\n",
       "      <th>BodyMassIndex</th>\n",
       "      <th>Hypertension</th>\n",
       "      <th>Had_Heart_Disease</th>\n",
       "      <th>Mean_Glucose_Level</th>\n",
       "      <th>Stroke</th>\n",
       "    </tr>\n",
       "  </thead>\n",
       "  <tbody>\n",
       "    <tr>\n",
       "      <th>0</th>\n",
       "      <td>4ff7cf09f18c920302462b55847e16b2</td>\n",
       "      <td>76.0</td>\n",
       "      <td>Female</td>\n",
       "      <td>Yes</td>\n",
       "      <td>Private</td>\n",
       "      <td>Urban</td>\n",
       "      <td>Unknown</td>\n",
       "      <td>38.7</td>\n",
       "      <td>0</td>\n",
       "      <td>0</td>\n",
       "      <td>198.02</td>\n",
       "      <td>0</td>\n",
       "    </tr>\n",
       "    <tr>\n",
       "      <th>1</th>\n",
       "      <td>084d356e9bcffa5c86b4043a63457b86</td>\n",
       "      <td>4.0</td>\n",
       "      <td>Female</td>\n",
       "      <td>No</td>\n",
       "      <td>children</td>\n",
       "      <td>Rural</td>\n",
       "      <td>Unknown</td>\n",
       "      <td>17.9</td>\n",
       "      <td>0</td>\n",
       "      <td>0</td>\n",
       "      <td>109.81</td>\n",
       "      <td>0</td>\n",
       "    </tr>\n",
       "    <tr>\n",
       "      <th>2</th>\n",
       "      <td>ab1ac9816b0217332806ca2b5b6ea05c</td>\n",
       "      <td>44.0</td>\n",
       "      <td>Female</td>\n",
       "      <td>Yes</td>\n",
       "      <td>Govt_job</td>\n",
       "      <td>Rural</td>\n",
       "      <td>never smoked</td>\n",
       "      <td>34.1</td>\n",
       "      <td>0</td>\n",
       "      <td>0</td>\n",
       "      <td>81.13</td>\n",
       "      <td>0</td>\n",
       "    </tr>\n",
       "    <tr>\n",
       "      <th>3</th>\n",
       "      <td>34397a04ace45dd67fc43e09871ff3a5</td>\n",
       "      <td>12.0</td>\n",
       "      <td>Male</td>\n",
       "      <td>No</td>\n",
       "      <td>children</td>\n",
       "      <td>Urban</td>\n",
       "      <td>Unknown</td>\n",
       "      <td>16.1</td>\n",
       "      <td>0</td>\n",
       "      <td>0</td>\n",
       "      <td>67.06</td>\n",
       "      <td>0</td>\n",
       "    </tr>\n",
       "    <tr>\n",
       "      <th>4</th>\n",
       "      <td>1e673deaeba32496ff359b7849008145</td>\n",
       "      <td>64.0</td>\n",
       "      <td>Female</td>\n",
       "      <td>Yes</td>\n",
       "      <td>Self-employed</td>\n",
       "      <td>Urban</td>\n",
       "      <td>never smoked</td>\n",
       "      <td>24.4</td>\n",
       "      <td>1</td>\n",
       "      <td>0</td>\n",
       "      <td>93.78</td>\n",
       "      <td>0</td>\n",
       "    </tr>\n",
       "  </tbody>\n",
       "</table>\n",
       "</div>"
      ],
      "text/plain": [
       "                                 id   Age  Gender Married Employment_Type  \\\n",
       "0  4ff7cf09f18c920302462b55847e16b2  76.0  Female     Yes         Private   \n",
       "1  084d356e9bcffa5c86b4043a63457b86   4.0  Female      No        children   \n",
       "2  ab1ac9816b0217332806ca2b5b6ea05c  44.0  Female     Yes        Govt_job   \n",
       "3  34397a04ace45dd67fc43e09871ff3a5  12.0    Male      No        children   \n",
       "4  1e673deaeba32496ff359b7849008145  64.0  Female     Yes   Self-employed   \n",
       "\n",
       "  Urban_Rural        Smoker  BodyMassIndex  Hypertension  Had_Heart_Disease  \\\n",
       "0       Urban       Unknown           38.7             0                  0   \n",
       "1       Rural       Unknown           17.9             0                  0   \n",
       "2       Rural  never smoked           34.1             0                  0   \n",
       "3       Urban       Unknown           16.1             0                  0   \n",
       "4       Urban  never smoked           24.4             1                  0   \n",
       "\n",
       "   Mean_Glucose_Level  Stroke  \n",
       "0              198.02       0  \n",
       "1              109.81       0  \n",
       "2               81.13       0  \n",
       "3               67.06       0  \n",
       "4               93.78       0  "
      ]
     },
     "execution_count": 4,
     "metadata": {},
     "output_type": "execute_result"
    }
   ],
   "source": [
    "df_training.head()"
   ]
  },
  {
   "cell_type": "code",
   "execution_count": 5,
   "id": "7e5eb040-80ac-4830-b32c-3a4f87ee447e",
   "metadata": {},
   "outputs": [
    {
     "data": {
      "text/plain": [
       "id                      0\n",
       "Age                     0\n",
       "Gender                  0\n",
       "Married                 0\n",
       "Employment_Type         0\n",
       "Urban_Rural             0\n",
       "Smoker                  0\n",
       "BodyMassIndex         160\n",
       "Hypertension            0\n",
       "Had_Heart_Disease       0\n",
       "Mean_Glucose_Level      0\n",
       "Stroke                  0\n",
       "dtype: int64"
      ]
     },
     "execution_count": 5,
     "metadata": {},
     "output_type": "execute_result"
    }
   ],
   "source": [
    "df_training.isnull().sum()"
   ]
  },
  {
   "cell_type": "markdown",
   "id": "9fa9c6fa-24ab-41ff-937e-939aa00e994a",
   "metadata": {},
   "source": [
    "We can see that that the __data is quite clean__, with only one variable having __missing values__: BodyMassIndex. To solve this problem, we will use a simple imputation. To do so, first we plot the histogram of the variable. We can see that the variable seems to be normaly distributed, but it is slightly skewed to the right, with a couple of extreme outliers. Taking into account this, we used the median for the imputation. (More complex solutions, like using a regression to imputatae the values were studied. If this tools are used, a special attention should be given to avoiding data leakeage.)\n",
    "\n",
    "More exploration of the data was undertaken to assure that it was clean, but it won't be showed here. After exploring the data, the only other action that seemed neccesary was deleting the only instace with the value 'other' for the variable 'gender'. As there were only one instance with this value it didn't bring any value to our analysis, and it could create trouble when aplying the model to the testing dataset."
   ]
  },
  {
   "cell_type": "code",
   "execution_count": 6,
   "id": "ad1b84b7-769b-4e85-92d2-89406bab81fe",
   "metadata": {},
   "outputs": [
    {
     "data": {
      "text/plain": [
       "<Axes: xlabel='BodyMassIndex', ylabel='Count'>"
      ]
     },
     "execution_count": 6,
     "metadata": {},
     "output_type": "execute_result"
    },
    {
     "data": {
      "image/png": "[encoded data removed]",
      "text/plain": [
       "<Figure size 640x480 with 1 Axes>"
      ]
     },
     "metadata": {},
     "output_type": "display_data"
    }
   ],
   "source": [
    "sns.histplot(data=df_training, x='BodyMassIndex')"
   ]
  },
  {
   "cell_type": "code",
   "execution_count": 7,
   "id": "1ba47cd3-d57f-4ed2-8daa-b1152dad286e",
   "metadata": {},
   "outputs": [
    {
     "data": {
      "text/plain": [
       "Female    2396\n",
       "Male      1691\n",
       "Other        1\n",
       "Name: Gender, dtype: int64"
      ]
     },
     "execution_count": 7,
     "metadata": {},
     "output_type": "execute_result"
    }
   ],
   "source": [
    "df_training['Gender'].value_counts()"
   ]
  },
  {
   "cell_type": "code",
   "execution_count": 8,
   "id": "53dfb3b5-6c90-40be-b102-0a7c17f9d28a",
   "metadata": {},
   "outputs": [],
   "source": [
    "df_training = df_training.drop('id', axis=1)\n",
    "\n",
    "numerical = ['Age','BodyMassIndex','Mean_Glucose_Level']\n",
    "categorical_vars = ['Gender', 'Married', 'Employment_Type', 'Urban_Rural',\n",
    "       'Smoker', 'Hypertension', 'Had_Heart_Disease']\n",
    "\n",
    "imp = SimpleImputer(strategy='median')\n",
    "df_training['BodyMassIndex'] = imp.fit_transform(df_training['BodyMassIndex'].values.reshape(-1, 1) )\n",
    "df_training = df_training[df_training.Gender != 'Other']\n",
    "\n",
    "y= df_training['Stroke']\n",
    "X = df_training.drop('Stroke', axis=1)"
   ]
  },
  {
   "cell_type": "code",
   "execution_count": 9,
   "id": "4b7e2385-eca0-4fe6-97df-0dab997c5e24",
   "metadata": {},
   "outputs": [
    {
     "name": "stdout",
     "output_type": "stream",
     "text": [
      "Age                   0\n",
      "Gender                0\n",
      "Married               0\n",
      "Employment_Type       0\n",
      "Urban_Rural           0\n",
      "Smoker                0\n",
      "BodyMassIndex         0\n",
      "Hypertension          0\n",
      "Had_Heart_Disease     0\n",
      "Mean_Glucose_Level    0\n",
      "Stroke                0\n",
      "dtype: int64\n"
     ]
    }
   ],
   "source": [
    "print(df_training.isnull().sum())"
   ]
  },
  {
   "cell_type": "markdown",
   "id": "18fe244c-1956-4372-a9b0-608e3e984c0b",
   "metadata": {},
   "source": [
    "After cleaning the data (and to assure that we don't have to clean it further) it is the time to do some __EDA__. On this script the focus is on the predictive model, so we will not show a deep EDA. Still, we will plot some graphs from which we can obtain the following __key insights__:\n",
    "- The dataset is extremely unbalanced.\n",
    "- The numerical variable with the higher correlation with 'stroke' is 'age'. This variable is also highly correlated with other explanatory variables.\n",
    "- The distribution of strokes across ages is extremely relevant, as there are virtually no strokes before the age of 30 years.\n",
    "- There seems to be some complex and nonlinear correlation. For instance, not only the percentage of strokes of males is higher, but also the distribution of Strokes across ages is different according to age. Our model should not ignore this multivariate relations.\n",
    "\n",
    "This complexity is what push us to use a model such as XGBoost, instead of other approaches like Logit."
   ]
  },
  {
   "cell_type": "code",
   "execution_count": 10,
   "id": "f48fa342-2eea-4500-884c-726e42a9eb00",
   "metadata": {},
   "outputs": [
    {
     "data": {
      "text/plain": [
       "<Axes: xlabel='Stroke', ylabel='count'>"
      ]
     },
     "execution_count": 10,
     "metadata": {},
     "output_type": "execute_result"
    },
    {
     "data": {
      "image/png": "[encoded data removed]",
      "text/plain": [
       "<Figure size 640x480 with 1 Axes>"
      ]
     },
     "metadata": {},
     "output_type": "display_data"
    }
   ],
   "source": [
    "sns.countplot(x=y)"
   ]
  },
  {
   "cell_type": "code",
   "execution_count": 11,
   "id": "a23b9076-dab5-40e6-ae8e-e77d4067219a",
   "metadata": {},
   "outputs": [
    {
     "data": {
      "text/plain": [
       "<Axes: >"
      ]
     },
     "execution_count": 11,
     "metadata": {},
     "output_type": "execute_result"
    },
    {
     "data": {
      "image/png": "[encoded data removed]",
      "text/plain": [
       "<Figure size 640x480 with 2 Axes>"
      ]
     },
     "metadata": {},
     "output_type": "display_data"
    }
   ],
   "source": [
    "sns.heatmap(df_training[['Age','BodyMassIndex','Mean_Glucose_Level','Stroke']].corr())"
   ]
  },
  {
   "cell_type": "code",
   "execution_count": 12,
   "id": "b31f9606-b83e-48f2-b28d-54a41397fec7",
   "metadata": {},
   "outputs": [
    {
     "name": "stdout",
     "output_type": "stream",
     "text": [
      "Gender  Stroke\n",
      "Female  0         2284\n",
      "        1          112\n",
      "Male    0         1604\n",
      "        1           87\n",
      "Name: Stroke, dtype: int64\n",
      "% of females with Stroke: 0.04674457429048414\n",
      "% of males with Stroke: 0.0514488468361916\n"
     ]
    }
   ],
   "source": [
    "print(df_training.groupby('Gender')['Stroke'].value_counts())\n",
    "femstrokes = 112/(112+2284)\n",
    "malestrokes = 87/(87+1604)\n",
    "\n",
    "print('% of females with Stroke: ' + str(femstrokes))\n",
    "print('% of males with Stroke: ' + str(malestrokes))"
   ]
  },
  {
   "cell_type": "code",
   "execution_count": 13,
   "id": "fb714612-6b20-46ad-9ec3-cfbb5f4028a6",
   "metadata": {},
   "outputs": [
    {
     "data": {
      "text/plain": [
       "<Axes: xlabel='Age', ylabel='Density'>"
      ]
     },
     "execution_count": 13,
     "metadata": {},
     "output_type": "execute_result"
    },
    {
     "data": {
      "image/png": "[encoded data removed]",
      "text/plain": [
       "<Figure size 1200x600 with 2 Axes>"
      ]
     },
     "metadata": {},
     "output_type": "display_data"
    }
   ],
   "source": [
    "fig, axes = plt.subplots(1, 2, figsize=(12, 6))\n",
    "\n",
    "sns.violinplot(ax=axes[0], data=df_training, x=\"Age\", y=\"Gender\", hue=\"Stroke\", split=True)\n",
    "sns.kdeplot(ax=axes[1], data=df_training, x=\"Age\", hue=\"Stroke\")"
   ]
  },
  {
   "cell_type": "markdown",
   "id": "9fd96db3-28d6-4d78-83ea-48ee22d2ea89",
   "metadata": {},
   "source": [
    "After the EDA, we apply __One Hot Econding__ to the categorical variables, so they can be used by our model."
   ]
  },
  {
   "cell_type": "code",
   "execution_count": 14,
   "id": "a729e8f8-7826-473b-b2df-fb04e5dee21a",
   "metadata": {},
   "outputs": [
    {
     "name": "stderr",
     "output_type": "stream",
     "text": [
      "C:\\Users\\santi\\.conda\\envs\\geo\\lib\\site-packages\\sklearn\\preprocessing\\_encoders.py:828: FutureWarning: `sparse` was renamed to `sparse_output` in version 1.2 and will be removed in 1.4. `sparse_output` is ignored unless you leave `sparse` to its default value.\n",
      "  warnings.warn(\n"
     ]
    }
   ],
   "source": [
    "from sklearn.preprocessing import OneHotEncoder\n",
    "\n",
    "one_hot_encoder = OneHotEncoder(sparse=False, drop = \"first\")\n",
    "\n",
    "# apply the one hot encoder logic \n",
    "encoder_vars_array = one_hot_encoder.fit_transform(X[categorical_vars])\n",
    "\n",
    "# create object for the feature names using the categorical variables\n",
    "encoder_feature_names = one_hot_encoder.get_feature_names_out(categorical_vars)\n",
    "\n",
    "# create a dataframe to hold the one hot encoded variables\n",
    "encoder_vars_df = pd.DataFrame(encoder_vars_array, columns = encoder_feature_names)\n",
    "\n",
    "# concatenate the new dataframe back to the original input variables dataframe\n",
    "X_new = pd.concat([X.reset_index(drop=True), encoder_vars_df.reset_index(drop=True)], axis = 1)\n",
    "\n",
    "# drop the original input 2 and input 3 as it is not needed anymore\n",
    "X_new.drop(categorical_vars, axis = 1, inplace = True)"
   ]
  },
  {
   "cell_type": "markdown",
   "id": "377d0cd8-8dc9-41b8-9f39-b28a34b17f4a",
   "metadata": {},
   "source": [
    "__Finally, we divide the data in training and validation. This process would not actually be necessary, because we will be using cross validation__. Actually, we will not use the division for choosing the model, as we can want to use all the datapoints for the training and choosing of the model. However, the division will be convenient to explain some key points related to the treatment of unbalanced datasets and the trade-off between accuracy and recall."
   ]
  },
  {
   "cell_type": "code",
   "execution_count": 15,
   "id": "7a9306ef-d18c-401a-98fd-be329a1aaa7e",
   "metadata": {},
   "outputs": [],
   "source": [
    "X_train, X_valid, y_train, y_valid = train_test_split(X_new, y, train_size=0.8, test_size=0.2,\n",
    "                                                      random_state=0)"
   ]
  },
  {
   "cell_type": "markdown",
   "id": "e1f2ea3b-ceeb-4cee-a22e-f1fa5e71a2b3",
   "metadata": {},
   "source": [
    "## Our model: XGboost"
   ]
  },
  {
   "cell_type": "markdown",
   "id": "287c090a-3639-4048-b497-30d47b7876ba",
   "metadata": {},
   "source": [
    "### Objective score: ROC AUC"
   ]
  },
  {
   "cell_type": "markdown",
   "id": "8f0b418c-d770-404f-be5c-745f0d02cf86",
   "metadata": {},
   "source": [
    "As we expalined, we will use a XGBoost model. In this section we use a randomized search to fine-tune the model. \n",
    "\n",
    "The __objective score is AUC__, because it was the score defined by the competition. In the following section we will adress the problems of this score taking into account that we have an unbalanced dataset. A special focus will then be given to the parameter 'scale_pos_weight'."
   ]
  },
  {
   "cell_type": "markdown",
   "id": "8c22b6b1-b754-4778-b39c-559e22cc0b46",
   "metadata": {},
   "source": [
    "To choose the best model we __fine-tuned__ the XGBClassifier with __repeated cross-validation__. Thanks to this technique we reduce the variance and bias of the score results, so we can be sure that we are choosing the best model. The folds,param_comb, and nrepeats can be changed to reduce the variance according to the computation time/power available."
   ]
  },
  {
   "cell_type": "code",
   "execution_count": 16,
   "id": "5aeecbbd-71f5-405d-810c-0e14a637164d",
   "metadata": {},
   "outputs": [
    {
     "name": "stdout",
     "output_type": "stream",
     "text": [
      "Fitting 10 folds for each of 30 candidates, totalling 300 fits\n",
      "[22:51:22] WARNING: C:/buildkite-agent/builds/buildkite-windows-cpu-autoscaling-group-i-0fc7796c793e6356f-1/xgboost/xgboost-ci-windows/src/learner.cc:767: \n",
      "Parameters: { \"silent\" } are not used.\n",
      "\n",
      "Best: 0.844269 using {'classifier__subsample': 0.6, 'classifier__scale_pos_weight': 1, 'classifier__n_estimators': 1000, 'classifier__min_child_weight': 5, 'classifier__max_depth': 3, 'classifier__gamma': 5, 'classifier__colsample_bytree': 0.8}\n"
     ]
    }
   ],
   "source": [
    "from sklearn.model_selection import RandomizedSearchCV\n",
    "\n",
    "folds = 5\n",
    "param_comb = 30\n",
    "nrepeats = 2\n",
    "params = {'classifier__n_estimators': [50,100,200,400,1000,4000],\n",
    "        'classifier__scale_pos_weight': [1,2,4.7,10,19.537, 50,100],\n",
    "        'classifier__min_child_weight': [1, 5, 10],\n",
    "        'classifier__gamma': [0.5, 1, 1.5, 2, 5],\n",
    "        'classifier__subsample': [0.6, 0.8, 1.0],\n",
    "        'classifier__colsample_bytree': [0.6, 0.8, 1.0],\n",
    "        'classifier__max_depth': [2,3,4,6,8]\n",
    "        }\n",
    "\n",
    "\n",
    "\n",
    "my_pipeline = Pipeline(steps=[('classifier', XGBClassifier(learning_rate=0.02, objective='binary:logistic',eval_metric = 'auc',\n",
    "                    silent=True, nthread=1))\n",
    "                             ])\n",
    "\n",
    "cv = RepeatedStratifiedKFold(n_splits=folds, n_repeats=nrepeats, random_state=15) \n",
    "\n",
    "grid = RandomizedSearchCV(estimator=my_pipeline, param_distributions=params, n_iter=param_comb, scoring='roc_auc', \n",
    "                          n_jobs=4, cv=cv, verbose=3, random_state=1001 )\n",
    "\n",
    "# execute the grid search \n",
    "grid_result = grid.fit(X_new, y) \n",
    "# report the best configuration \n",
    "print(\"Best: %f using %s\" % (grid_result.best_score_, grid_result.best_params_)) "
   ]
  },
  {
   "cell_type": "code",
   "execution_count": 36,
   "id": "17188d5d-8e5a-4dc6-baea-28a54d4432e3",
   "metadata": {},
   "outputs": [
    {
     "data": {
      "text/html": [
       "<div>\n",
       "<style scoped>\n",
       "    .dataframe tbody tr th:only-of-type {\n",
       "        vertical-align: middle;\n",
       "    }\n",
       "\n",
       "    .dataframe tbody tr th {\n",
       "        vertical-align: top;\n",
       "    }\n",
       "\n",
       "    .dataframe thead th {\n",
       "        text-align: right;\n",
       "    }\n",
       "</style>\n",
       "<table border=\"1\" class=\"dataframe\">\n",
       "  <thead>\n",
       "    <tr style=\"text-align: right;\">\n",
       "      <th></th>\n",
       "      <th>mean_fit_time</th>\n",
       "      <th>std_fit_time</th>\n",
       "      <th>mean_score_time</th>\n",
       "      <th>std_score_time</th>\n",
       "      <th>param_classifier__subsample</th>\n",
       "      <th>param_classifier__scale_pos_weight</th>\n",
       "      <th>param_classifier__n_estimators</th>\n",
       "      <th>param_classifier__min_child_weight</th>\n",
       "      <th>param_classifier__max_depth</th>\n",
       "      <th>param_classifier__gamma</th>\n",
       "      <th>...</th>\n",
       "      <th>split3_test_score</th>\n",
       "      <th>split4_test_score</th>\n",
       "      <th>split5_test_score</th>\n",
       "      <th>split6_test_score</th>\n",
       "      <th>split7_test_score</th>\n",
       "      <th>split8_test_score</th>\n",
       "      <th>split9_test_score</th>\n",
       "      <th>mean_test_score</th>\n",
       "      <th>std_test_score</th>\n",
       "      <th>rank_test_score</th>\n",
       "    </tr>\n",
       "  </thead>\n",
       "  <tbody>\n",
       "    <tr>\n",
       "      <th>14</th>\n",
       "      <td>2.359343</td>\n",
       "      <td>0.168178</td>\n",
       "      <td>0.011852</td>\n",
       "      <td>0.005885</td>\n",
       "      <td>0.6</td>\n",
       "      <td>1</td>\n",
       "      <td>1000</td>\n",
       "      <td>5</td>\n",
       "      <td>3</td>\n",
       "      <td>5</td>\n",
       "      <td>...</td>\n",
       "      <td>0.802477</td>\n",
       "      <td>0.863417</td>\n",
       "      <td>0.863335</td>\n",
       "      <td>0.815006</td>\n",
       "      <td>0.855909</td>\n",
       "      <td>0.819981</td>\n",
       "      <td>0.873713</td>\n",
       "      <td>0.844269</td>\n",
       "      <td>0.026016</td>\n",
       "      <td>1</td>\n",
       "    </tr>\n",
       "    <tr>\n",
       "      <th>27</th>\n",
       "      <td>1.057114</td>\n",
       "      <td>0.156325</td>\n",
       "      <td>0.009086</td>\n",
       "      <td>0.006372</td>\n",
       "      <td>0.6</td>\n",
       "      <td>2</td>\n",
       "      <td>400</td>\n",
       "      <td>1</td>\n",
       "      <td>3</td>\n",
       "      <td>2</td>\n",
       "      <td>...</td>\n",
       "      <td>0.804279</td>\n",
       "      <td>0.865058</td>\n",
       "      <td>0.864364</td>\n",
       "      <td>0.797751</td>\n",
       "      <td>0.857689</td>\n",
       "      <td>0.823359</td>\n",
       "      <td>0.870045</td>\n",
       "      <td>0.841683</td>\n",
       "      <td>0.028401</td>\n",
       "      <td>2</td>\n",
       "    </tr>\n",
       "    <tr>\n",
       "      <th>26</th>\n",
       "      <td>0.589037</td>\n",
       "      <td>0.024410</td>\n",
       "      <td>0.013380</td>\n",
       "      <td>0.004745</td>\n",
       "      <td>0.8</td>\n",
       "      <td>1</td>\n",
       "      <td>200</td>\n",
       "      <td>1</td>\n",
       "      <td>3</td>\n",
       "      <td>0.5</td>\n",
       "      <td>...</td>\n",
       "      <td>0.786615</td>\n",
       "      <td>0.872233</td>\n",
       "      <td>0.866067</td>\n",
       "      <td>0.800611</td>\n",
       "      <td>0.862534</td>\n",
       "      <td>0.815605</td>\n",
       "      <td>0.872426</td>\n",
       "      <td>0.840693</td>\n",
       "      <td>0.033302</td>\n",
       "      <td>3</td>\n",
       "    </tr>\n",
       "    <tr>\n",
       "      <th>19</th>\n",
       "      <td>0.100084</td>\n",
       "      <td>0.010438</td>\n",
       "      <td>0.006250</td>\n",
       "      <td>0.007654</td>\n",
       "      <td>0.6</td>\n",
       "      <td>4.7</td>\n",
       "      <td>50</td>\n",
       "      <td>5</td>\n",
       "      <td>2</td>\n",
       "      <td>1</td>\n",
       "      <td>...</td>\n",
       "      <td>0.786390</td>\n",
       "      <td>0.874936</td>\n",
       "      <td>0.855768</td>\n",
       "      <td>0.813625</td>\n",
       "      <td>0.852762</td>\n",
       "      <td>0.814559</td>\n",
       "      <td>0.876609</td>\n",
       "      <td>0.840448</td>\n",
       "      <td>0.030933</td>\n",
       "      <td>4</td>\n",
       "    </tr>\n",
       "    <tr>\n",
       "      <th>25</th>\n",
       "      <td>1.229829</td>\n",
       "      <td>0.165909</td>\n",
       "      <td>0.013285</td>\n",
       "      <td>0.008768</td>\n",
       "      <td>1.0</td>\n",
       "      <td>2</td>\n",
       "      <td>400</td>\n",
       "      <td>10</td>\n",
       "      <td>4</td>\n",
       "      <td>2</td>\n",
       "      <td>...</td>\n",
       "      <td>0.798681</td>\n",
       "      <td>0.862001</td>\n",
       "      <td>0.864203</td>\n",
       "      <td>0.792481</td>\n",
       "      <td>0.851526</td>\n",
       "      <td>0.820817</td>\n",
       "      <td>0.862613</td>\n",
       "      <td>0.838115</td>\n",
       "      <td>0.027822</td>\n",
       "      <td>5</td>\n",
       "    </tr>\n",
       "  </tbody>\n",
       "</table>\n",
       "<p>5 rows × 25 columns</p>\n",
       "</div>"
      ],
      "text/plain": [
       "    mean_fit_time  std_fit_time  mean_score_time  std_score_time  \\\n",
       "14       2.359343      0.168178         0.011852        0.005885   \n",
       "27       1.057114      0.156325         0.009086        0.006372   \n",
       "26       0.589037      0.024410         0.013380        0.004745   \n",
       "19       0.100084      0.010438         0.006250        0.007654   \n",
       "25       1.229829      0.165909         0.013285        0.008768   \n",
       "\n",
       "   param_classifier__subsample param_classifier__scale_pos_weight  \\\n",
       "14                         0.6                                  1   \n",
       "27                         0.6                                  2   \n",
       "26                         0.8                                  1   \n",
       "19                         0.6                                4.7   \n",
       "25                         1.0                                  2   \n",
       "\n",
       "   param_classifier__n_estimators param_classifier__min_child_weight  \\\n",
       "14                           1000                                  5   \n",
       "27                            400                                  1   \n",
       "26                            200                                  1   \n",
       "19                             50                                  5   \n",
       "25                            400                                 10   \n",
       "\n",
       "   param_classifier__max_depth param_classifier__gamma  ... split3_test_score  \\\n",
       "14                           3                       5  ...          0.802477   \n",
       "27                           3                       2  ...          0.804279   \n",
       "26                           3                     0.5  ...          0.786615   \n",
       "19                           2                       1  ...          0.786390   \n",
       "25                           4                       2  ...          0.798681   \n",
       "\n",
       "   split4_test_score  split5_test_score  split6_test_score  split7_test_score  \\\n",
       "14          0.863417           0.863335           0.815006           0.855909   \n",
       "27          0.865058           0.864364           0.797751           0.857689   \n",
       "26          0.872233           0.866067           0.800611           0.862534   \n",
       "19          0.874936           0.855768           0.813625           0.852762   \n",
       "25          0.862001           0.864203           0.792481           0.851526   \n",
       "\n",
       "    split8_test_score  split9_test_score  mean_test_score  std_test_score  \\\n",
       "14           0.819981           0.873713         0.844269        0.026016   \n",
       "27           0.823359           0.870045         0.841683        0.028401   \n",
       "26           0.815605           0.872426         0.840693        0.033302   \n",
       "19           0.814559           0.876609         0.840448        0.030933   \n",
       "25           0.820817           0.862613         0.838115        0.027822   \n",
       "\n",
       "    rank_test_score  \n",
       "14                1  \n",
       "27                2  \n",
       "26                3  \n",
       "19                4  \n",
       "25                5  \n",
       "\n",
       "[5 rows x 25 columns]"
      ]
     },
     "execution_count": 36,
     "metadata": {},
     "output_type": "execute_result"
    }
   ],
   "source": [
    "results = pd.DataFrame(grid.cv_results_)\n",
    "results.sort_values(by=['mean_test_score'], ascending=False).head(5)"
   ]
  },
  {
   "cell_type": "markdown",
   "id": "3cd36152-5f91-452e-8e7d-f850e6299d3b",
   "metadata": {},
   "source": [
    "__With this method we have chosen the best model according to the AUC score__. We can also explore the dataframe *results* to see how the different parameters affect our results. \n",
    "\n",
    "A key point, is that __the best model has a *scale_pos_weight* of 1__. That is, it does not give more importance to the instances with a value of 1 for strokes. Or in other words, __it does not tackle the problem of having an unbalanced dataset__. To obtain more insight about this, we will train a model with this parameters over 80% of our data, and we will calculate predictions and plot the confussion matrix for the other 20%."
   ]
  },
  {
   "cell_type": "code",
   "execution_count": 34,
   "id": "5ca5f436-1e1b-46bd-96e9-6298f56160c9",
   "metadata": {},
   "outputs": [
    {
     "name": "stdout",
     "output_type": "stream",
     "text": [
      "[23:11:46] WARNING: C:/buildkite-agent/builds/buildkite-windows-cpu-autoscaling-group-i-0fc7796c793e6356f-1/xgboost/xgboost-ci-windows/src/learner.cc:767: \n",
      "Parameters: { \"silent\" } are not used.\n",
      "\n",
      "Accuracy: 0.9449877750611247\n",
      "ROC score on test examples = 0.8058\n"
     ]
    },
    {
     "data": {
      "text/plain": [
       "<sklearn.metrics._plot.confusion_matrix.ConfusionMatrixDisplay at 0x1920d47c8b0>"
      ]
     },
     "execution_count": 34,
     "metadata": {},
     "output_type": "execute_result"
    },
    {
     "data": {
      "image/png": "[encoded data removed]",
      "text/plain": [
       "<Figure size 640x480 with 1 Axes>"
      ]
     },
     "metadata": {},
     "output_type": "display_data"
    },
    {
     "data": {
      "image/png": "[encoded data removed]",
      "text/plain": [
       "<Figure size 640x480 with 2 Axes>"
      ]
     },
     "metadata": {},
     "output_type": "display_data"
    }
   ],
   "source": [
    "chosenModel =  grid.best_estimator_\n",
    "\n",
    "chosenModel.fit(X_train,y_train) \n",
    "predict = chosenModel.predict(X_valid) \n",
    "prob = chosenModel.predict_proba(X_valid)[:, 1]\n",
    "                            \n",
    "print ('Accuracy: ' + str(accuracy_score(y_valid,predict)))\n",
    "\n",
    "acc = roc_auc_score(y_valid, prob) # compute accuracy \n",
    "print(\"ROC score on test examples = %4.4f\" %acc) \n",
    "\n",
    "ax = plt.gca()\n",
    "rfc_disp = RocCurveDisplay.from_estimator(chosenModel, X_valid, y_valid, ax=ax, alpha=0.8)\n",
    "\n",
    "ConfusionMatrixDisplay.from_estimator(chosenModel, X_valid, y_valid)"
   ]
  },
  {
   "cell_type": "markdown",
   "id": "954482e1-d5b3-43e5-98a1-6c5b7244e114",
   "metadata": {},
   "source": [
    "We see that we are obtaining an accuracy of 94% and a AUC of 80%. The second value is realtively low, according to the mean and standard deviation obtained with the repeated cross validation, and for a different random split of the data we could expect higher scores.\n",
    "\n",
    "In any case, the most relevant data for us at this point is the confussion matrix. We see that __our model is labeling almost all the points as *no Stroke*. As we have an unbalanced dataset, this gives us a really high accuracy, but our model is unable to identify the Strokes__ (more technically, it has a etremely low recall). This is is extremely problematic, as in this case it is extremely important to corretcly identify the person that might have an stroke, even if it reduces the overall accuracy of the model.\n",
    "\n",
    "A solution for this problem could be lowering the treshold for labelling a instace as stroke (for instance, labelling as *Stroke* all the points with a probability of stroke higher than 0.2). Still, this is a partial solution that does not solve the underlying problem: we need to find a model with a higher recall."
   ]
  },
  {
   "cell_type": "markdown",
   "id": "41761d54-5748-4c08-bdc2-ea21bcc95267",
   "metadata": {},
   "source": [
    "### Objective score: F1"
   ]
  },
  {
   "cell_type": "markdown",
   "id": "d977a335-b01f-44bb-bb9d-9f0d303230d2",
   "metadata": {},
   "source": [
    "To solve the problem explained above, we need to find a new model. To do so, we change the __target score to F1__, which gives a __greater importance to recall__ and its more fitting to the objectives of our challenge (finding the people that might have an stroke) and the unbalanced of our dataset. \n",
    "\n",
    "__The key idea here is that for us saying to someone that they might have a Stroke when their probability is not that high is less problematic than not correctly identifying the people with a high probability of having strokes, because this second mistake could cost them their lives.__\n",
    "\n",
    "In the model, this involves two changes in our code: deleting the *eval_metric = 'auc'* from the XGBoost model and choosing *scoring='f1'* in our Grid."
   ]
  },
  {
   "cell_type": "markdown",
   "id": "b9f9b279-3548-4b22-b0fc-3e58a9a87b4f",
   "metadata": {},
   "source": [
    "In the result, we will see that the parameter __*scale_pos_weight* gets a higher importance__. We have established several values to this parameter taking into account the documentation."
   ]
  },
  {
   "cell_type": "code",
   "execution_count": 39,
   "id": "ab07837d-2114-4b41-8f0f-d566da9ba73a",
   "metadata": {},
   "outputs": [
    {
     "name": "stdout",
     "output_type": "stream",
     "text": [
      "19.537688442211056\n",
      "4.420145748978314\n"
     ]
    }
   ],
   "source": [
    "from math import sqrt\n",
    "print(3888/199)\n",
    "print(sqrt(3888/199))"
   ]
  },
  {
   "cell_type": "code",
   "execution_count": 38,
   "id": "dfa16ab2-b212-4be5-8f83-228d30f80121",
   "metadata": {},
   "outputs": [
    {
     "name": "stdout",
     "output_type": "stream",
     "text": [
      "Fitting 15 folds for each of 40 candidates, totalling 600 fits\n",
      "[23:44:37] WARNING: C:/buildkite-agent/builds/buildkite-windows-cpu-autoscaling-group-i-0fc7796c793e6356f-1/xgboost/xgboost-ci-windows/src/learner.cc:767: \n",
      "Parameters: { \"silent\" } are not used.\n",
      "\n",
      "Best: 0.267132 using {'classifier__subsample': 0.6, 'classifier__scale_pos_weight': 10, 'classifier__n_estimators': 400, 'classifier__min_child_weight': 1, 'classifier__max_depth': 3, 'classifier__gamma': 2, 'classifier__colsample_bytree': 0.6}\n"
     ]
    }
   ],
   "source": [
    "from sklearn.model_selection import RandomizedSearchCV\n",
    "\n",
    "folds = 5\n",
    "param_comb = 40\n",
    "nrepeats = 3\n",
    "params = {'classifier__n_estimators': [50,100,200,400,1000,4000],\n",
    "        'classifier__scale_pos_weight': [1,2,4.7,10,19.537, 50,100],\n",
    "        'classifier__min_child_weight': [1, 5, 10],\n",
    "        'classifier__gamma': [0.5, 1, 1.5, 2, 5],\n",
    "        'classifier__subsample': [0.6, 0.8, 1.0],\n",
    "        'classifier__colsample_bytree': [0.6, 0.8, 1.0],\n",
    "        'classifier__max_depth': [2,3,4,6,8]\n",
    "        }\n",
    "\n",
    "\n",
    "\n",
    "my_pipeline = Pipeline(steps=[('classifier', XGBClassifier(learning_rate=0.02, objective='binary:logistic',\n",
    "                    silent=True, nthread=1))\n",
    "                             ])\n",
    "\n",
    "cv = RepeatedStratifiedKFold(n_splits=folds, n_repeats=nrepeats, random_state=15) \n",
    "\n",
    "grid = RandomizedSearchCV(estimator=my_pipeline, param_distributions=params, n_iter=param_comb, scoring='f1', \n",
    "                          n_jobs=4, cv=cv, verbose=3, random_state=1001 )\n",
    "\n",
    "# execute the grid search \n",
    "grid_result = grid.fit(X_new, y) \n",
    "# report the best configuration \n",
    "print(\"Best: %f using %s\" % (grid_result.best_score_, grid_result.best_params_)) "
   ]
  },
  {
   "cell_type": "code",
   "execution_count": 40,
   "id": "c545a011-22a8-4586-9efe-60e3bd1d0c44",
   "metadata": {},
   "outputs": [
    {
     "data": {
      "text/html": [
       "<div>\n",
       "<style scoped>\n",
       "    .dataframe tbody tr th:only-of-type {\n",
       "        vertical-align: middle;\n",
       "    }\n",
       "\n",
       "    .dataframe tbody tr th {\n",
       "        vertical-align: top;\n",
       "    }\n",
       "\n",
       "    .dataframe thead th {\n",
       "        text-align: right;\n",
       "    }\n",
       "</style>\n",
       "<table border=\"1\" class=\"dataframe\">\n",
       "  <thead>\n",
       "    <tr style=\"text-align: right;\">\n",
       "      <th></th>\n",
       "      <th>mean_fit_time</th>\n",
       "      <th>std_fit_time</th>\n",
       "      <th>mean_score_time</th>\n",
       "      <th>std_score_time</th>\n",
       "      <th>param_classifier__subsample</th>\n",
       "      <th>param_classifier__scale_pos_weight</th>\n",
       "      <th>param_classifier__n_estimators</th>\n",
       "      <th>param_classifier__min_child_weight</th>\n",
       "      <th>param_classifier__max_depth</th>\n",
       "      <th>param_classifier__gamma</th>\n",
       "      <th>...</th>\n",
       "      <th>split8_test_score</th>\n",
       "      <th>split9_test_score</th>\n",
       "      <th>split10_test_score</th>\n",
       "      <th>split11_test_score</th>\n",
       "      <th>split12_test_score</th>\n",
       "      <th>split13_test_score</th>\n",
       "      <th>split14_test_score</th>\n",
       "      <th>mean_test_score</th>\n",
       "      <th>std_test_score</th>\n",
       "      <th>rank_test_score</th>\n",
       "    </tr>\n",
       "  </thead>\n",
       "  <tbody>\n",
       "    <tr>\n",
       "      <th>6</th>\n",
       "      <td>0.842972</td>\n",
       "      <td>0.062887</td>\n",
       "      <td>0.011835</td>\n",
       "      <td>0.006411</td>\n",
       "      <td>0.6</td>\n",
       "      <td>10</td>\n",
       "      <td>400</td>\n",
       "      <td>1</td>\n",
       "      <td>3</td>\n",
       "      <td>2</td>\n",
       "      <td>...</td>\n",
       "      <td>0.242424</td>\n",
       "      <td>0.281481</td>\n",
       "      <td>0.280255</td>\n",
       "      <td>0.250000</td>\n",
       "      <td>0.291667</td>\n",
       "      <td>0.236025</td>\n",
       "      <td>0.269231</td>\n",
       "      <td>0.267132</td>\n",
       "      <td>0.036921</td>\n",
       "      <td>1</td>\n",
       "    </tr>\n",
       "    <tr>\n",
       "      <th>17</th>\n",
       "      <td>0.115645</td>\n",
       "      <td>0.015121</td>\n",
       "      <td>0.010456</td>\n",
       "      <td>0.007971</td>\n",
       "      <td>1.0</td>\n",
       "      <td>10</td>\n",
       "      <td>50</td>\n",
       "      <td>5</td>\n",
       "      <td>3</td>\n",
       "      <td>5</td>\n",
       "      <td>...</td>\n",
       "      <td>0.253659</td>\n",
       "      <td>0.297143</td>\n",
       "      <td>0.263158</td>\n",
       "      <td>0.285714</td>\n",
       "      <td>0.228571</td>\n",
       "      <td>0.234043</td>\n",
       "      <td>0.292453</td>\n",
       "      <td>0.259383</td>\n",
       "      <td>0.031621</td>\n",
       "      <td>2</td>\n",
       "    </tr>\n",
       "    <tr>\n",
       "      <th>0</th>\n",
       "      <td>1.821754</td>\n",
       "      <td>0.050490</td>\n",
       "      <td>0.016106</td>\n",
       "      <td>0.004598</td>\n",
       "      <td>0.6</td>\n",
       "      <td>10</td>\n",
       "      <td>1000</td>\n",
       "      <td>1</td>\n",
       "      <td>2</td>\n",
       "      <td>2</td>\n",
       "      <td>...</td>\n",
       "      <td>0.267516</td>\n",
       "      <td>0.283688</td>\n",
       "      <td>0.257669</td>\n",
       "      <td>0.236111</td>\n",
       "      <td>0.258993</td>\n",
       "      <td>0.231707</td>\n",
       "      <td>0.276316</td>\n",
       "      <td>0.254955</td>\n",
       "      <td>0.033433</td>\n",
       "      <td>3</td>\n",
       "    </tr>\n",
       "    <tr>\n",
       "      <th>33</th>\n",
       "      <td>1.720616</td>\n",
       "      <td>0.328752</td>\n",
       "      <td>0.020091</td>\n",
       "      <td>0.006974</td>\n",
       "      <td>0.6</td>\n",
       "      <td>50</td>\n",
       "      <td>400</td>\n",
       "      <td>5</td>\n",
       "      <td>6</td>\n",
       "      <td>1.5</td>\n",
       "      <td>...</td>\n",
       "      <td>0.240385</td>\n",
       "      <td>0.279330</td>\n",
       "      <td>0.247525</td>\n",
       "      <td>0.237288</td>\n",
       "      <td>0.251429</td>\n",
       "      <td>0.226804</td>\n",
       "      <td>0.246154</td>\n",
       "      <td>0.252660</td>\n",
       "      <td>0.023522</td>\n",
       "      <td>4</td>\n",
       "    </tr>\n",
       "    <tr>\n",
       "      <th>12</th>\n",
       "      <td>0.428525</td>\n",
       "      <td>0.120439</td>\n",
       "      <td>0.009391</td>\n",
       "      <td>0.006245</td>\n",
       "      <td>0.6</td>\n",
       "      <td>19.537</td>\n",
       "      <td>100</td>\n",
       "      <td>5</td>\n",
       "      <td>4</td>\n",
       "      <td>2</td>\n",
       "      <td>...</td>\n",
       "      <td>0.249027</td>\n",
       "      <td>0.263374</td>\n",
       "      <td>0.250000</td>\n",
       "      <td>0.267782</td>\n",
       "      <td>0.229075</td>\n",
       "      <td>0.233463</td>\n",
       "      <td>0.258065</td>\n",
       "      <td>0.249311</td>\n",
       "      <td>0.014763</td>\n",
       "      <td>5</td>\n",
       "    </tr>\n",
       "  </tbody>\n",
       "</table>\n",
       "<p>5 rows × 30 columns</p>\n",
       "</div>"
      ],
      "text/plain": [
       "    mean_fit_time  std_fit_time  mean_score_time  std_score_time  \\\n",
       "6        0.842972      0.062887         0.011835        0.006411   \n",
       "17       0.115645      0.015121         0.010456        0.007971   \n",
       "0        1.821754      0.050490         0.016106        0.004598   \n",
       "33       1.720616      0.328752         0.020091        0.006974   \n",
       "12       0.428525      0.120439         0.009391        0.006245   \n",
       "\n",
       "   param_classifier__subsample param_classifier__scale_pos_weight  \\\n",
       "6                          0.6                                 10   \n",
       "17                         1.0                                 10   \n",
       "0                          0.6                                 10   \n",
       "33                         0.6                                 50   \n",
       "12                         0.6                             19.537   \n",
       "\n",
       "   param_classifier__n_estimators param_classifier__min_child_weight  \\\n",
       "6                             400                                  1   \n",
       "17                             50                                  5   \n",
       "0                            1000                                  1   \n",
       "33                            400                                  5   \n",
       "12                            100                                  5   \n",
       "\n",
       "   param_classifier__max_depth param_classifier__gamma  ... split8_test_score  \\\n",
       "6                            3                       2  ...          0.242424   \n",
       "17                           3                       5  ...          0.253659   \n",
       "0                            2                       2  ...          0.267516   \n",
       "33                           6                     1.5  ...          0.240385   \n",
       "12                           4                       2  ...          0.249027   \n",
       "\n",
       "   split9_test_score  split10_test_score  split11_test_score  \\\n",
       "6           0.281481            0.280255            0.250000   \n",
       "17          0.297143            0.263158            0.285714   \n",
       "0           0.283688            0.257669            0.236111   \n",
       "33          0.279330            0.247525            0.237288   \n",
       "12          0.263374            0.250000            0.267782   \n",
       "\n",
       "    split12_test_score  split13_test_score  split14_test_score  \\\n",
       "6             0.291667            0.236025            0.269231   \n",
       "17            0.228571            0.234043            0.292453   \n",
       "0             0.258993            0.231707            0.276316   \n",
       "33            0.251429            0.226804            0.246154   \n",
       "12            0.229075            0.233463            0.258065   \n",
       "\n",
       "    mean_test_score  std_test_score  rank_test_score  \n",
       "6          0.267132        0.036921                1  \n",
       "17         0.259383        0.031621                2  \n",
       "0          0.254955        0.033433                3  \n",
       "33         0.252660        0.023522                4  \n",
       "12         0.249311        0.014763                5  \n",
       "\n",
       "[5 rows x 30 columns]"
      ]
     },
     "execution_count": 40,
     "metadata": {},
     "output_type": "execute_result"
    }
   ],
   "source": [
    "results = pd.DataFrame(grid.cv_results_)\n",
    "results.sort_values(by=['mean_test_score'], ascending=False).head(5)"
   ]
  },
  {
   "cell_type": "markdown",
   "id": "36dbb306-c44f-48b0-b120-8dbc19fe7392",
   "metadata": {},
   "source": [
    "We can see that with __the best model using the new score has a *scale_pos_weight':* of 10__ (that is, it is given 10 times more importance to the instances with a value of 1 for 'Stroke'). Moreover, __we see on the table that all the models with a high score are given a *scale_pos_weight* higher than 1, the value chosen before.__\n",
    "\n",
    "As we before, we will explain what this means with an __example__, using the division of the data done before."
   ]
  },
  {
   "cell_type": "code",
   "execution_count": 41,
   "id": "2a9bf067-11e1-465a-b07d-d433a1ab5420",
   "metadata": {},
   "outputs": [
    {
     "name": "stdout",
     "output_type": "stream",
     "text": [
      "[23:44:38] WARNING: C:/buildkite-agent/builds/buildkite-windows-cpu-autoscaling-group-i-0fc7796c793e6356f-1/xgboost/xgboost-ci-windows/src/learner.cc:767: \n",
      "Parameters: { \"silent\" } are not used.\n",
      "\n",
      "Accuracy: 0.8459657701711492\n",
      "ROC score on test examples = 0.7950\n"
     ]
    },
    {
     "data": {
      "text/plain": [
       "<sklearn.metrics._plot.confusion_matrix.ConfusionMatrixDisplay at 0x1920d611fc0>"
      ]
     },
     "execution_count": 41,
     "metadata": {},
     "output_type": "execute_result"
    },
    {
     "data": {
      "image/png": "[encoded data removed]",
      "text/plain": [
       "<Figure size 640x480 with 1 Axes>"
      ]
     },
     "metadata": {},
     "output_type": "display_data"
    },
    {
     "data": {
      "image/png": "[encoded data removed]",
      "text/plain": [
       "<Figure size 640x480 with 2 Axes>"
      ]
     },
     "metadata": {},
     "output_type": "display_data"
    }
   ],
   "source": [
    "chosenModel2 =  grid.best_estimator_\n",
    "\n",
    "chosenModel2.fit(X_train,y_train) \n",
    "predict = chosenModel2.predict(X_valid) \n",
    "prob = chosenModel2.predict_proba(X_valid)[:, 1]\n",
    "                            \n",
    "print ('Accuracy: ' + str(accuracy_score(y_valid,predict)))\n",
    "\n",
    "acc = roc_auc_score(y_valid, prob) # compute accuracy \n",
    "print(\"ROC score on test examples = %4.4f\" %acc) \n",
    "\n",
    "ax = plt.gca()\n",
    "rfc_disp = RocCurveDisplay.from_estimator(chosenModel2, X_valid, y_valid, ax=ax, alpha=0.8)\n",
    "\n",
    "ConfusionMatrixDisplay.from_estimator(chosenModel2, X_valid, y_valid)"
   ]
  },
  {
   "cell_type": "markdown",
   "id": "228ba37b-fb26-4db5-aa56-8349aa6a0227",
   "metadata": {},
   "source": [
    "As we can see, in this case the accuracy as decreased considerably (from 94% to 84%), and the AUC has also decreased. This is due to the fact that now we have many more false positives. Before we didn't have this problem, because the model was classifying virtually every point as *Stroke=0*. __Before we had a recall of almost 0, and now we have raised to almost a 50%.__\n",
    "\n",
    "(Take into account that this is just an illustrative example. With a other division of the data the scores would be different, and the right approach to obtain the real values would be doing repeated cross validation over the data).\n",
    "\n",
    "__Furthermore, now it will make sense to increase the recall by reducing the probability treshold, as we have a model oriented towards correctly identifying the 'Strokes'.__"
   ]
  },
  {
   "cell_type": "markdown",
   "id": "2369f09d-aff6-48ec-b63f-80919c330a06",
   "metadata": {},
   "source": [
    "__Taking into account the importance of correctly identifying the people who might have a stroke, as it could potentially save their live, this model is prefered to the one before.__"
   ]
  },
  {
   "cell_type": "markdown",
   "id": "38d36b9a-12d9-4c7d-94b3-67bfafc923a3",
   "metadata": {},
   "source": [
    "## Submission"
   ]
  },
  {
   "cell_type": "markdown",
   "id": "3333cf87-2441-470e-bcd9-c47a7633ad0c",
   "metadata": {},
   "source": [
    "In this section we fit the chosen models to the whole of the training data, charge the test_set, preprocess it following the same steps as before and calculate the probabilities for the submission."
   ]
  },
  {
   "cell_type": "code",
   "execution_count": null,
   "id": "23356dc5-1d15-43d7-bdd1-c2a072787802",
   "metadata": {},
   "outputs": [],
   "source": [
    "#chosenModel.fit(X_new,y)\n",
    "#chosenModel2.fit(X_new,y)"
   ]
  },
  {
   "cell_type": "code",
   "execution_count": null,
   "id": "be68c1dd-1c96-41a3-afc7-441e5eee8309",
   "metadata": {},
   "outputs": [],
   "source": [
    "test_set = pd.read_csv('C:/Users/santi/OneDrive/Escritorio/SD Hackathon/testing-stroke.csv')"
   ]
  },
  {
   "cell_type": "code",
   "execution_count": null,
   "id": "acb43f4f-856e-466e-bfa3-724b86b3b802",
   "metadata": {},
   "outputs": [],
   "source": [
    "test_set.head()"
   ]
  },
  {
   "cell_type": "code",
   "execution_count": null,
   "id": "9b7dae61-bdf9-4dd7-a49c-e2ac719e3883",
   "metadata": {},
   "outputs": [],
   "source": [
    "id = test_set['id']\n",
    "test_set = test_set.drop('id', axis=1)"
   ]
  },
  {
   "cell_type": "code",
   "execution_count": null,
   "id": "27da4166-3c03-45f8-9c27-75801b3ed774",
   "metadata": {},
   "outputs": [],
   "source": [
    "X_new.columns"
   ]
  },
  {
   "cell_type": "code",
   "execution_count": null,
   "id": "ee67d55c-9223-4155-a64c-e1538525e355",
   "metadata": {},
   "outputs": [],
   "source": [
    "len(test_set)"
   ]
  },
  {
   "cell_type": "code",
   "execution_count": null,
   "id": "5a0518c5-ca2e-441e-9518-393392acf4fc",
   "metadata": {},
   "outputs": [],
   "source": [
    "test_set.columns"
   ]
  },
  {
   "cell_type": "code",
   "execution_count": null,
   "id": "4a1f28aa-442d-4e6a-bbda-ebe04d107110",
   "metadata": {},
   "outputs": [],
   "source": [
    "X_sub=[]\n",
    "\n",
    "imp = SimpleImputer(strategy='median')\n",
    "test_set['BodyMassIndex'] = imp.fit_transform(test_set['BodyMassIndex'].values.reshape(-1, 1) )\n",
    "\n",
    "one_hot_encoder = OneHotEncoder(sparse=False, drop = \"first\")\n",
    "\n",
    "# apply the one hot encoder logic \n",
    "encoder_vars_array = one_hot_encoder.fit_transform(test_set[categorical_vars])\n",
    "\n",
    "# create object for the feature names using the categorical variables\n",
    "encoder_feature_names = one_hot_encoder.get_feature_names_out(categorical_vars)\n",
    "\n",
    "# create a dataframe to hold the one hot encoded variables\n",
    "encoder_vars_df = pd.DataFrame(encoder_vars_array, columns = encoder_feature_names)\n",
    "\n",
    "# concatenate the new dataframe back to the original input variables dataframe\n",
    "X_sub = pd.concat([test_set.reset_index(drop=True), encoder_vars_df.reset_index(drop=True)], axis = 1)\n",
    "\n",
    "# drop the original input 2 and input 3 as it is not needed anymore\n",
    "X_sub.drop(categorical_vars, axis = 1, inplace = True)"
   ]
  },
  {
   "cell_type": "code",
   "execution_count": null,
   "id": "c762203d-8200-4709-a0ba-5c2dc233abad",
   "metadata": {},
   "outputs": [],
   "source": [
    "prob_sub = chosenModel.predict_proba(X_sub)[:, 1]\n",
    "prob_sub"
   ]
  },
  {
   "cell_type": "code",
   "execution_count": null,
   "id": "64a3f944-192f-49c0-a7a2-0937a444bc81",
   "metadata": {},
   "outputs": [],
   "source": [
    "len(prob_sub)\n",
    "len(X_sub)"
   ]
  },
  {
   "cell_type": "code",
   "execution_count": null,
   "id": "07d1c59b-8802-4a94-b671-8ce24a722ec7",
   "metadata": {},
   "outputs": [],
   "source": [
    "d = {'id': id, 'Stroke': prob_sub}\n",
    "df = pd.DataFrame(data=d)"
   ]
  },
  {
   "cell_type": "code",
   "execution_count": null,
   "id": "718cca1f-91ae-460b-8501-3f79f3c83337",
   "metadata": {},
   "outputs": [],
   "source": [
    "df.to_csv('C:/Users/santi/OneDrive/Escritorio/SD Hackathon/sub_model1.csv', index=False)"
   ]
  },
  {
   "cell_type": "code",
   "execution_count": null,
   "id": "5fae6c8f-3e5b-476a-824e-99bb2bc811cc",
   "metadata": {},
   "outputs": [],
   "source": [
    "cv = RepeatedStratifiedKFold(n_splits=10, n_repeats=3, random_state=1) \n",
    "chosenModel =  grid.best_estimator_\n",
    "\n",
    "\n",
    "my_pipeline = Pipeline(steps=[('preprocessor', SimpleImputer(strategy=\"mean\", fill_value='missing')),\n",
    "                              ('classifier', grid.best_estimator_)\n",
    "                             ])\n",
    "\n",
    "my_pipeline.fit(X_train,y_train) \n",
    "predict = chosenModel.predict(X_valid) \n",
    "prob = chosenModel.predict_proba(X_valid)[:, 1]\n",
    "                            \n",
    "print (accuracy_score(y_valid,predict))\n",
    "\n",
    "acc = roc_auc_score(y_valid, prob) # compute accuracy \n",
    "print(\"ROC score on test examples = %4.4f\" %acc) \n",
    "print(confusion_matrix(y_valid, predict))\n",
    "\n",
    "ax = plt.gca()\n",
    "rfc_disp = RocCurveDisplay.from_estimator(chosenModel, X_valid, y_valid, ax=ax, alpha=0.8)"
   ]
  }
 ],
 "metadata": {
  "kernelspec": {
   "display_name": "Python 3 (ipykernel)",
   "language": "python",
   "name": "python3"
  },
  "language_info": {
   "codemirror_mode": {
    "name": "ipython",
    "version": 3
   },
   "file_extension": ".py",
   "mimetype": "text/x-python",
   "name": "python",
   "nbconvert_exporter": "python",
   "pygments_lexer": "ipython3",
   "version": "3.9.13"
  },
  "toc-autonumbering": false,
  "toc-showcode": false
 },
 "nbformat": 4,
 "nbformat_minor": 5
}
